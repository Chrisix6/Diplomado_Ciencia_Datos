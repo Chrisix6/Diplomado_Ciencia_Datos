{
 "cells": [
  {
   "cell_type": "markdown",
   "id": "59597350-2025-433e-836b-69abc667654a",
   "metadata": {},
   "source": [
    "<figure>\n",
    "<img src=\"../DIPLOMADO/ML2.jpg\"  width=\"200\" height=\"200\" align=\"left\" class=\"logo\"/> \n",
    "</figure>\n",
    "\n",
    "<figure>\n",
    "<img src=\"../DIPLOMADO/ML2.jpg\"  width=\"200\" height=\"200\" align=\"right\" class=\"logo\"/> \n",
    "</figure>\n",
    "\n",
    "# <span style=\"color:blue\"><center>Machine Learning</center></span>\n"
   ]
  },
  {
   "cell_type": "markdown",
   "id": "5e5440e1-2871-4a1b-bf11-f4ff1f657d79",
   "metadata": {},
   "source": [
    "\n",
    "### <center>Aprendizaje supervisado"
   ]
  },
  {
   "cell_type": "markdown",
   "id": "9e0e7648-d98e-46e0-945c-c8d42c0e0bad",
   "metadata": {},
   "source": [
    "<figure>\n",
    "<img src=\"../DIPLOMADO/img1.png\"  width=\"200\" height=\"100\" align=\"left\"/> \n",
    "</figure>\n",
    "\n",
    "<Center> \n",
    "    Christian Martinez. <br>\n",
    "    25 años. <br>\n",
    "    Economista egresado de la Universidad Santo Tomás.<br><br>\n",
    "    Actualmente trabajando para Publicis Groupe, multinacional francesa de publicidad y relaciones públicas.<br><br>\n",
    "    Interesado, principalmente, en temas de analisís y modelos predictivos que puedan aportar valor agregado y, de igual manera, permitan optimizar procesos.\n",
    "    \n",
    "</center>"
   ]
  },
  {
   "cell_type": "markdown",
   "id": "7697567e-d14e-4877-8ff3-e40bc9f58319",
   "metadata": {},
   "source": [
    "# <span style=\"color:blue\"><center>¿Qué es el aprendizaje supervisado?</center></span>"
   ]
  },
  {
   "cell_type": "markdown",
   "id": "5399af35-2db8-45cb-8852-300b0fa2cd05",
   "metadata": {},
   "source": [
    "El aprendizaje supervisado es una de las principales ramas de un conjunto de herramientas llamado 'machine learning', este ultimo pretende encontrar, mediante algoritmos, patrones o comportamientos en los datos que permitan crear valor agregado a estos y, de esta manera, poder reportar información útil a quienes puedan necesitar estos datos.\n",
    "\n",
    "El aprendizaje supervisado permite, mediante un conjunto de datos clasificados y ordenados, predecir diversos comportamientos mediante el entrenamiento de la maquina que, a medida que va absorbiendo más y más datos, se va volviendo más precisa y, por ende, predice de una manera más adecuada la información solicitada.\n",
    "\n",
    "Un ejemplo de esto puede ser un modelo predictivo de fuga de clientes: El algoritmo utiliza un conjunto de datos de entrenamiento de clientes que previamente cancelaron la suscripción de un servicio. Según el entrenamiento, el algoritmo predice si un nuevo cliente finalizará la suscripción o no en función de los parámetros de entrada. Fuente: [¿Qué es el aprendizaje supervisado?](https://www.tibco.com/es/reference-center/what-is-supervised-learning#:~:text=El%20aprendizaje%20supervisado%20es%20una,de%20manera%20explícita%20dónde%20buscar.)\n",
    "\n",
    "Una de las regresiones más utilizadas en los modelos predictivos de aprendizaje supervisado es la **regresión lineal** en el que se entrena a un algoritmo para predecir una salida a partir de un rango continuo de valores posibles. Por ejemplo, los datos de entrenamiento inmobiliario tomarán nota de la ubicación, el área y otros parámetros relevantes, la salida será el precio de un inmueble específico.\n",
    "\n",
    "Una representación de esta regresión podría ser\n",
    "\n",
    "\\begin{align}\n",
    "\\beta_{VentaDeApartamentos}\n",
    " = \\beta_{0} + \\beta_{1}Ubicación + \\beta_{2}Cuartos + \\beta_{3}Subsidio + ... + \\beta_{n}X_{n}\n",
    "\\end{align}"
   ]
  }
 ],
 "metadata": {
  "kernelspec": {
   "display_name": "Python 3 (ipykernel)",
   "language": "python",
   "name": "python3"
  },
  "language_info": {
   "codemirror_mode": {
    "name": "ipython",
    "version": 3
   },
   "file_extension": ".py",
   "mimetype": "text/x-python",
   "name": "python",
   "nbconvert_exporter": "python",
   "pygments_lexer": "ipython3",
   "version": "3.10.6"
  }
 },
 "nbformat": 4,
 "nbformat_minor": 5
}
